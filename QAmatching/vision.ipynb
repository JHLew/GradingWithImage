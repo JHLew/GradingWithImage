{
 "cells": [
  {
   "cell_type": "markdown",
   "metadata": {},
   "source": [
    "# 라이브러리 불러오기"
   ]
  },
  {
   "cell_type": "code",
   "execution_count": 1,
   "metadata": {},
   "outputs": [],
   "source": [
    "import pandas as pd"
   ]
  },
  {
   "cell_type": "markdown",
   "metadata": {},
   "source": []
  },
  {
   "cell_type": "markdown",
   "metadata": {},
   "source": [
    "# 데이터 불러오기"
   ]
  },
  {
   "cell_type": "code",
   "execution_count": 2,
   "metadata": {},
   "outputs": [],
   "source": [
    "df_q = pd.read_excel('Question.xlsx')\n",
    "df_a = pd.read_excel('Answer.xlsx')"
   ]
  },
  {
   "cell_type": "markdown",
   "metadata": {},
   "source": []
  },
  {
   "cell_type": "markdown",
   "metadata": {},
   "source": [
    "# 문제지, 답 구분"
   ]
  },
  {
   "cell_type": "code",
   "execution_count": 3,
   "metadata": {},
   "outputs": [],
   "source": [
    "df_q['ver'] = 'Question'\n",
    "df_a['ver'] = 'Answer'"
   ]
  },
  {
   "cell_type": "markdown",
   "metadata": {},
   "source": []
  },
  {
   "cell_type": "markdown",
   "metadata": {},
   "source": [
    "# 정답 비교"
   ]
  },
  {
   "cell_type": "code",
   "execution_count": 4,
   "metadata": {},
   "outputs": [],
   "source": [
    "df_concatted = pd.concat([df_q, df_a], ignore_index=True) #두 데이터 프레임을 하나로 합치기\n",
    "changes = df_concatted.drop_duplicates(df_concatted.columns[:-1], keep='last') # 모든 컬럼의 내용이 중복되는 데이터는 삭제\n",
    "\n",
    "# 남은 데이터 중 동일한 아이디 값이 두개 이상 존재한다면\n",
    "duplicated_list = changes[changes['문제번호'].duplicated()]['문제번호'].to_list()\n",
    "# 정보가 변경된 데이터입니다.\n",
    "df_changed = changes[changes['문제번호'].isin(duplicated_list)]"
   ]
  },
  {
   "cell_type": "code",
   "execution_count": 5,
   "metadata": {},
   "outputs": [],
   "source": [
    "# 문제지, 답안지 데이터 분리\n",
    "df_changed_q = df_changed[df_changed['ver'] == 'Question'].iloc[:,:-1]\n",
    "df_changed_q.sort_values(by='문제번호', inplace=True)\n",
    "\n",
    "df_changed_a = df_changed[df_changed['ver'] == 'Answer'].iloc[:,:-1]\n",
    "df_changed_a.sort_values(by='문제번호', inplace=True)"
   ]
  },
  {
   "cell_type": "code",
   "execution_count": 24,
   "metadata": {},
   "outputs": [
    {
     "data": {
      "text/html": [
       "<style  type=\"text/css\" >\n",
       "#T_478ef626_bc7c_11eb_9265_309c23678ef6row0_col0,#T_478ef626_bc7c_11eb_9265_309c23678ef6row0_col1,#T_478ef626_bc7c_11eb_9265_309c23678ef6row1_col0,#T_478ef626_bc7c_11eb_9265_309c23678ef6row1_col1,#T_478ef626_bc7c_11eb_9265_309c23678ef6row2_col0,#T_478ef626_bc7c_11eb_9265_309c23678ef6row2_col1,#T_478ef626_bc7c_11eb_9265_309c23678ef6row3_col0,#T_478ef626_bc7c_11eb_9265_309c23678ef6row3_col1,#T_478ef626_bc7c_11eb_9265_309c23678ef6row4_col0,#T_478ef626_bc7c_11eb_9265_309c23678ef6row4_col1,#T_478ef626_bc7c_11eb_9265_309c23678ef6row5_col0,#T_478ef626_bc7c_11eb_9265_309c23678ef6row5_col1{\n",
       "            text-align:  center;\n",
       "        }</style><table id=\"T_478ef626_bc7c_11eb_9265_309c23678ef6\" ><thead>    <tr>        <th class=\"blank level0\" ></th>        <th class=\"col_heading level0 col0\" >문제번호</th>        <th class=\"col_heading level0 col1\" >답</th>    </tr></thead><tbody>\n",
       "                <tr>\n",
       "                        <th id=\"T_478ef626_bc7c_11eb_9265_309c23678ef6level0_row0\" class=\"row_heading level0 row0\" >2</th>\n",
       "                        <td id=\"T_478ef626_bc7c_11eb_9265_309c23678ef6row0_col0\" class=\"data row0 col0\" >3</td>\n",
       "                        <td id=\"T_478ef626_bc7c_11eb_9265_309c23678ef6row0_col1\" class=\"data row0 col1\" >2 → 4</td>\n",
       "            </tr>\n",
       "            <tr>\n",
       "                        <th id=\"T_478ef626_bc7c_11eb_9265_309c23678ef6level0_row1\" class=\"row_heading level0 row1\" >6</th>\n",
       "                        <td id=\"T_478ef626_bc7c_11eb_9265_309c23678ef6row1_col0\" class=\"data row1 col0\" >7</td>\n",
       "                        <td id=\"T_478ef626_bc7c_11eb_9265_309c23678ef6row1_col1\" class=\"data row1 col1\" >5 → 1</td>\n",
       "            </tr>\n",
       "            <tr>\n",
       "                        <th id=\"T_478ef626_bc7c_11eb_9265_309c23678ef6level0_row2\" class=\"row_heading level0 row2\" >9</th>\n",
       "                        <td id=\"T_478ef626_bc7c_11eb_9265_309c23678ef6row2_col0\" class=\"data row2 col0\" >10</td>\n",
       "                        <td id=\"T_478ef626_bc7c_11eb_9265_309c23678ef6row2_col1\" class=\"data row2 col1\" >4 → 3</td>\n",
       "            </tr>\n",
       "            <tr>\n",
       "                        <th id=\"T_478ef626_bc7c_11eb_9265_309c23678ef6level0_row3\" class=\"row_heading level0 row3\" >12</th>\n",
       "                        <td id=\"T_478ef626_bc7c_11eb_9265_309c23678ef6row3_col0\" class=\"data row3 col0\" >13</td>\n",
       "                        <td id=\"T_478ef626_bc7c_11eb_9265_309c23678ef6row3_col1\" class=\"data row3 col1\" >4 → 2</td>\n",
       "            </tr>\n",
       "            <tr>\n",
       "                        <th id=\"T_478ef626_bc7c_11eb_9265_309c23678ef6level0_row4\" class=\"row_heading level0 row4\" >16</th>\n",
       "                        <td id=\"T_478ef626_bc7c_11eb_9265_309c23678ef6row4_col0\" class=\"data row4 col0\" >17</td>\n",
       "                        <td id=\"T_478ef626_bc7c_11eb_9265_309c23678ef6row4_col1\" class=\"data row4 col1\" >1 → 3</td>\n",
       "            </tr>\n",
       "            <tr>\n",
       "                        <th id=\"T_478ef626_bc7c_11eb_9265_309c23678ef6level0_row5\" class=\"row_heading level0 row5\" >18</th>\n",
       "                        <td id=\"T_478ef626_bc7c_11eb_9265_309c23678ef6row5_col0\" class=\"data row5 col0\" >19</td>\n",
       "                        <td id=\"T_478ef626_bc7c_11eb_9265_309c23678ef6row5_col1\" class=\"data row5 col1\" >4 → 1</td>\n",
       "            </tr>\n",
       "    </tbody></table>"
      ],
      "text/plain": [
       "<pandas.io.formats.style.Styler at 0x2afba737448>"
      ]
     },
     "execution_count": 24,
     "metadata": {},
     "output_type": "execute_result"
    }
   ],
   "source": [
    "# 틀린 문제 번호 및 답\n",
    "df_info_changed = df_changed_q.copy()\n",
    "for i in range(len(df_changed_q.index)):\n",
    "    for j in range(len(df_changed_q.columns)):\n",
    "        if (df_changed_q.iloc[i, j] != df_changed_a.iloc[i, j]):\n",
    "             df_info_changed.iloc[i,j] = str(df_changed_q.iloc[i, j]) + \" → \" + str(df_changed_a.iloc[i,j])\n",
    "\n",
    "df_info_changed.style.set_properties(**{'text-align': 'center'})"
   ]
  },
  {
   "cell_type": "markdown",
   "metadata": {},
   "source": [
    "# 채점"
   ]
  },
  {
   "cell_type": "code",
   "execution_count": 7,
   "metadata": {},
   "outputs": [],
   "source": [
    "df_infor_co = df_q.iloc[:,:-1]\n",
    "df_infor_co['correct'] = 'O'"
   ]
  },
  {
   "cell_type": "code",
   "execution_count": 27,
   "metadata": {
    "scrolled": true
   },
   "outputs": [
    {
     "data": {
      "text/html": [
       "<style  type=\"text/css\" >\n",
       "#T_7ae4b32e_bc7c_11eb_88dd_309c23678ef6row0_col0,#T_7ae4b32e_bc7c_11eb_88dd_309c23678ef6row0_col1,#T_7ae4b32e_bc7c_11eb_88dd_309c23678ef6row0_col2,#T_7ae4b32e_bc7c_11eb_88dd_309c23678ef6row1_col0,#T_7ae4b32e_bc7c_11eb_88dd_309c23678ef6row1_col1,#T_7ae4b32e_bc7c_11eb_88dd_309c23678ef6row1_col2,#T_7ae4b32e_bc7c_11eb_88dd_309c23678ef6row2_col0,#T_7ae4b32e_bc7c_11eb_88dd_309c23678ef6row2_col1,#T_7ae4b32e_bc7c_11eb_88dd_309c23678ef6row2_col2,#T_7ae4b32e_bc7c_11eb_88dd_309c23678ef6row3_col0,#T_7ae4b32e_bc7c_11eb_88dd_309c23678ef6row3_col1,#T_7ae4b32e_bc7c_11eb_88dd_309c23678ef6row3_col2,#T_7ae4b32e_bc7c_11eb_88dd_309c23678ef6row4_col0,#T_7ae4b32e_bc7c_11eb_88dd_309c23678ef6row4_col1,#T_7ae4b32e_bc7c_11eb_88dd_309c23678ef6row4_col2,#T_7ae4b32e_bc7c_11eb_88dd_309c23678ef6row5_col0,#T_7ae4b32e_bc7c_11eb_88dd_309c23678ef6row5_col1,#T_7ae4b32e_bc7c_11eb_88dd_309c23678ef6row5_col2,#T_7ae4b32e_bc7c_11eb_88dd_309c23678ef6row6_col0,#T_7ae4b32e_bc7c_11eb_88dd_309c23678ef6row6_col1,#T_7ae4b32e_bc7c_11eb_88dd_309c23678ef6row6_col2,#T_7ae4b32e_bc7c_11eb_88dd_309c23678ef6row7_col0,#T_7ae4b32e_bc7c_11eb_88dd_309c23678ef6row7_col1,#T_7ae4b32e_bc7c_11eb_88dd_309c23678ef6row7_col2,#T_7ae4b32e_bc7c_11eb_88dd_309c23678ef6row8_col0,#T_7ae4b32e_bc7c_11eb_88dd_309c23678ef6row8_col1,#T_7ae4b32e_bc7c_11eb_88dd_309c23678ef6row8_col2,#T_7ae4b32e_bc7c_11eb_88dd_309c23678ef6row9_col0,#T_7ae4b32e_bc7c_11eb_88dd_309c23678ef6row9_col1,#T_7ae4b32e_bc7c_11eb_88dd_309c23678ef6row9_col2,#T_7ae4b32e_bc7c_11eb_88dd_309c23678ef6row10_col0,#T_7ae4b32e_bc7c_11eb_88dd_309c23678ef6row10_col1,#T_7ae4b32e_bc7c_11eb_88dd_309c23678ef6row10_col2,#T_7ae4b32e_bc7c_11eb_88dd_309c23678ef6row11_col0,#T_7ae4b32e_bc7c_11eb_88dd_309c23678ef6row11_col1,#T_7ae4b32e_bc7c_11eb_88dd_309c23678ef6row11_col2,#T_7ae4b32e_bc7c_11eb_88dd_309c23678ef6row12_col0,#T_7ae4b32e_bc7c_11eb_88dd_309c23678ef6row12_col1,#T_7ae4b32e_bc7c_11eb_88dd_309c23678ef6row12_col2,#T_7ae4b32e_bc7c_11eb_88dd_309c23678ef6row13_col0,#T_7ae4b32e_bc7c_11eb_88dd_309c23678ef6row13_col1,#T_7ae4b32e_bc7c_11eb_88dd_309c23678ef6row13_col2,#T_7ae4b32e_bc7c_11eb_88dd_309c23678ef6row14_col0,#T_7ae4b32e_bc7c_11eb_88dd_309c23678ef6row14_col1,#T_7ae4b32e_bc7c_11eb_88dd_309c23678ef6row14_col2,#T_7ae4b32e_bc7c_11eb_88dd_309c23678ef6row15_col0,#T_7ae4b32e_bc7c_11eb_88dd_309c23678ef6row15_col1,#T_7ae4b32e_bc7c_11eb_88dd_309c23678ef6row15_col2,#T_7ae4b32e_bc7c_11eb_88dd_309c23678ef6row16_col0,#T_7ae4b32e_bc7c_11eb_88dd_309c23678ef6row16_col1,#T_7ae4b32e_bc7c_11eb_88dd_309c23678ef6row16_col2,#T_7ae4b32e_bc7c_11eb_88dd_309c23678ef6row17_col0,#T_7ae4b32e_bc7c_11eb_88dd_309c23678ef6row17_col1,#T_7ae4b32e_bc7c_11eb_88dd_309c23678ef6row17_col2,#T_7ae4b32e_bc7c_11eb_88dd_309c23678ef6row18_col0,#T_7ae4b32e_bc7c_11eb_88dd_309c23678ef6row18_col1,#T_7ae4b32e_bc7c_11eb_88dd_309c23678ef6row18_col2,#T_7ae4b32e_bc7c_11eb_88dd_309c23678ef6row19_col0,#T_7ae4b32e_bc7c_11eb_88dd_309c23678ef6row19_col1,#T_7ae4b32e_bc7c_11eb_88dd_309c23678ef6row19_col2{\n",
       "            text-align:  center;\n",
       "        }</style><table id=\"T_7ae4b32e_bc7c_11eb_88dd_309c23678ef6\" ><thead>    <tr>        <th class=\"blank level0\" ></th>        <th class=\"col_heading level0 col0\" >문제번호</th>        <th class=\"col_heading level0 col1\" >답</th>        <th class=\"col_heading level0 col2\" >correct</th>    </tr></thead><tbody>\n",
       "                <tr>\n",
       "                        <th id=\"T_7ae4b32e_bc7c_11eb_88dd_309c23678ef6level0_row0\" class=\"row_heading level0 row0\" >0</th>\n",
       "                        <td id=\"T_7ae4b32e_bc7c_11eb_88dd_309c23678ef6row0_col0\" class=\"data row0 col0\" >1</td>\n",
       "                        <td id=\"T_7ae4b32e_bc7c_11eb_88dd_309c23678ef6row0_col1\" class=\"data row0 col1\" >3</td>\n",
       "                        <td id=\"T_7ae4b32e_bc7c_11eb_88dd_309c23678ef6row0_col2\" class=\"data row0 col2\" >O</td>\n",
       "            </tr>\n",
       "            <tr>\n",
       "                        <th id=\"T_7ae4b32e_bc7c_11eb_88dd_309c23678ef6level0_row1\" class=\"row_heading level0 row1\" >1</th>\n",
       "                        <td id=\"T_7ae4b32e_bc7c_11eb_88dd_309c23678ef6row1_col0\" class=\"data row1 col0\" >2</td>\n",
       "                        <td id=\"T_7ae4b32e_bc7c_11eb_88dd_309c23678ef6row1_col1\" class=\"data row1 col1\" >2</td>\n",
       "                        <td id=\"T_7ae4b32e_bc7c_11eb_88dd_309c23678ef6row1_col2\" class=\"data row1 col2\" >O</td>\n",
       "            </tr>\n",
       "            <tr>\n",
       "                        <th id=\"T_7ae4b32e_bc7c_11eb_88dd_309c23678ef6level0_row2\" class=\"row_heading level0 row2\" >2</th>\n",
       "                        <td id=\"T_7ae4b32e_bc7c_11eb_88dd_309c23678ef6row2_col0\" class=\"data row2 col0\" >3</td>\n",
       "                        <td id=\"T_7ae4b32e_bc7c_11eb_88dd_309c23678ef6row2_col1\" class=\"data row2 col1\" >2 → 4</td>\n",
       "                        <td id=\"T_7ae4b32e_bc7c_11eb_88dd_309c23678ef6row2_col2\" class=\"data row2 col2\" >X</td>\n",
       "            </tr>\n",
       "            <tr>\n",
       "                        <th id=\"T_7ae4b32e_bc7c_11eb_88dd_309c23678ef6level0_row3\" class=\"row_heading level0 row3\" >3</th>\n",
       "                        <td id=\"T_7ae4b32e_bc7c_11eb_88dd_309c23678ef6row3_col0\" class=\"data row3 col0\" >4</td>\n",
       "                        <td id=\"T_7ae4b32e_bc7c_11eb_88dd_309c23678ef6row3_col1\" class=\"data row3 col1\" >4</td>\n",
       "                        <td id=\"T_7ae4b32e_bc7c_11eb_88dd_309c23678ef6row3_col2\" class=\"data row3 col2\" >O</td>\n",
       "            </tr>\n",
       "            <tr>\n",
       "                        <th id=\"T_7ae4b32e_bc7c_11eb_88dd_309c23678ef6level0_row4\" class=\"row_heading level0 row4\" >4</th>\n",
       "                        <td id=\"T_7ae4b32e_bc7c_11eb_88dd_309c23678ef6row4_col0\" class=\"data row4 col0\" >5</td>\n",
       "                        <td id=\"T_7ae4b32e_bc7c_11eb_88dd_309c23678ef6row4_col1\" class=\"data row4 col1\" >2</td>\n",
       "                        <td id=\"T_7ae4b32e_bc7c_11eb_88dd_309c23678ef6row4_col2\" class=\"data row4 col2\" >O</td>\n",
       "            </tr>\n",
       "            <tr>\n",
       "                        <th id=\"T_7ae4b32e_bc7c_11eb_88dd_309c23678ef6level0_row5\" class=\"row_heading level0 row5\" >5</th>\n",
       "                        <td id=\"T_7ae4b32e_bc7c_11eb_88dd_309c23678ef6row5_col0\" class=\"data row5 col0\" >6</td>\n",
       "                        <td id=\"T_7ae4b32e_bc7c_11eb_88dd_309c23678ef6row5_col1\" class=\"data row5 col1\" >3</td>\n",
       "                        <td id=\"T_7ae4b32e_bc7c_11eb_88dd_309c23678ef6row5_col2\" class=\"data row5 col2\" >O</td>\n",
       "            </tr>\n",
       "            <tr>\n",
       "                        <th id=\"T_7ae4b32e_bc7c_11eb_88dd_309c23678ef6level0_row6\" class=\"row_heading level0 row6\" >6</th>\n",
       "                        <td id=\"T_7ae4b32e_bc7c_11eb_88dd_309c23678ef6row6_col0\" class=\"data row6 col0\" >7</td>\n",
       "                        <td id=\"T_7ae4b32e_bc7c_11eb_88dd_309c23678ef6row6_col1\" class=\"data row6 col1\" >5 → 1</td>\n",
       "                        <td id=\"T_7ae4b32e_bc7c_11eb_88dd_309c23678ef6row6_col2\" class=\"data row6 col2\" >X</td>\n",
       "            </tr>\n",
       "            <tr>\n",
       "                        <th id=\"T_7ae4b32e_bc7c_11eb_88dd_309c23678ef6level0_row7\" class=\"row_heading level0 row7\" >7</th>\n",
       "                        <td id=\"T_7ae4b32e_bc7c_11eb_88dd_309c23678ef6row7_col0\" class=\"data row7 col0\" >8</td>\n",
       "                        <td id=\"T_7ae4b32e_bc7c_11eb_88dd_309c23678ef6row7_col1\" class=\"data row7 col1\" >1</td>\n",
       "                        <td id=\"T_7ae4b32e_bc7c_11eb_88dd_309c23678ef6row7_col2\" class=\"data row7 col2\" >O</td>\n",
       "            </tr>\n",
       "            <tr>\n",
       "                        <th id=\"T_7ae4b32e_bc7c_11eb_88dd_309c23678ef6level0_row8\" class=\"row_heading level0 row8\" >8</th>\n",
       "                        <td id=\"T_7ae4b32e_bc7c_11eb_88dd_309c23678ef6row8_col0\" class=\"data row8 col0\" >9</td>\n",
       "                        <td id=\"T_7ae4b32e_bc7c_11eb_88dd_309c23678ef6row8_col1\" class=\"data row8 col1\" >2</td>\n",
       "                        <td id=\"T_7ae4b32e_bc7c_11eb_88dd_309c23678ef6row8_col2\" class=\"data row8 col2\" >O</td>\n",
       "            </tr>\n",
       "            <tr>\n",
       "                        <th id=\"T_7ae4b32e_bc7c_11eb_88dd_309c23678ef6level0_row9\" class=\"row_heading level0 row9\" >9</th>\n",
       "                        <td id=\"T_7ae4b32e_bc7c_11eb_88dd_309c23678ef6row9_col0\" class=\"data row9 col0\" >10</td>\n",
       "                        <td id=\"T_7ae4b32e_bc7c_11eb_88dd_309c23678ef6row9_col1\" class=\"data row9 col1\" >4 → 3</td>\n",
       "                        <td id=\"T_7ae4b32e_bc7c_11eb_88dd_309c23678ef6row9_col2\" class=\"data row9 col2\" >X</td>\n",
       "            </tr>\n",
       "            <tr>\n",
       "                        <th id=\"T_7ae4b32e_bc7c_11eb_88dd_309c23678ef6level0_row10\" class=\"row_heading level0 row10\" >10</th>\n",
       "                        <td id=\"T_7ae4b32e_bc7c_11eb_88dd_309c23678ef6row10_col0\" class=\"data row10 col0\" >11</td>\n",
       "                        <td id=\"T_7ae4b32e_bc7c_11eb_88dd_309c23678ef6row10_col1\" class=\"data row10 col1\" >2</td>\n",
       "                        <td id=\"T_7ae4b32e_bc7c_11eb_88dd_309c23678ef6row10_col2\" class=\"data row10 col2\" >O</td>\n",
       "            </tr>\n",
       "            <tr>\n",
       "                        <th id=\"T_7ae4b32e_bc7c_11eb_88dd_309c23678ef6level0_row11\" class=\"row_heading level0 row11\" >11</th>\n",
       "                        <td id=\"T_7ae4b32e_bc7c_11eb_88dd_309c23678ef6row11_col0\" class=\"data row11 col0\" >12</td>\n",
       "                        <td id=\"T_7ae4b32e_bc7c_11eb_88dd_309c23678ef6row11_col1\" class=\"data row11 col1\" >3</td>\n",
       "                        <td id=\"T_7ae4b32e_bc7c_11eb_88dd_309c23678ef6row11_col2\" class=\"data row11 col2\" >O</td>\n",
       "            </tr>\n",
       "            <tr>\n",
       "                        <th id=\"T_7ae4b32e_bc7c_11eb_88dd_309c23678ef6level0_row12\" class=\"row_heading level0 row12\" >12</th>\n",
       "                        <td id=\"T_7ae4b32e_bc7c_11eb_88dd_309c23678ef6row12_col0\" class=\"data row12 col0\" >13</td>\n",
       "                        <td id=\"T_7ae4b32e_bc7c_11eb_88dd_309c23678ef6row12_col1\" class=\"data row12 col1\" >4 → 2</td>\n",
       "                        <td id=\"T_7ae4b32e_bc7c_11eb_88dd_309c23678ef6row12_col2\" class=\"data row12 col2\" >X</td>\n",
       "            </tr>\n",
       "            <tr>\n",
       "                        <th id=\"T_7ae4b32e_bc7c_11eb_88dd_309c23678ef6level0_row13\" class=\"row_heading level0 row13\" >13</th>\n",
       "                        <td id=\"T_7ae4b32e_bc7c_11eb_88dd_309c23678ef6row13_col0\" class=\"data row13 col0\" >14</td>\n",
       "                        <td id=\"T_7ae4b32e_bc7c_11eb_88dd_309c23678ef6row13_col1\" class=\"data row13 col1\" >2</td>\n",
       "                        <td id=\"T_7ae4b32e_bc7c_11eb_88dd_309c23678ef6row13_col2\" class=\"data row13 col2\" >O</td>\n",
       "            </tr>\n",
       "            <tr>\n",
       "                        <th id=\"T_7ae4b32e_bc7c_11eb_88dd_309c23678ef6level0_row14\" class=\"row_heading level0 row14\" >14</th>\n",
       "                        <td id=\"T_7ae4b32e_bc7c_11eb_88dd_309c23678ef6row14_col0\" class=\"data row14 col0\" >15</td>\n",
       "                        <td id=\"T_7ae4b32e_bc7c_11eb_88dd_309c23678ef6row14_col1\" class=\"data row14 col1\" >2</td>\n",
       "                        <td id=\"T_7ae4b32e_bc7c_11eb_88dd_309c23678ef6row14_col2\" class=\"data row14 col2\" >O</td>\n",
       "            </tr>\n",
       "            <tr>\n",
       "                        <th id=\"T_7ae4b32e_bc7c_11eb_88dd_309c23678ef6level0_row15\" class=\"row_heading level0 row15\" >15</th>\n",
       "                        <td id=\"T_7ae4b32e_bc7c_11eb_88dd_309c23678ef6row15_col0\" class=\"data row15 col0\" >16</td>\n",
       "                        <td id=\"T_7ae4b32e_bc7c_11eb_88dd_309c23678ef6row15_col1\" class=\"data row15 col1\" >3</td>\n",
       "                        <td id=\"T_7ae4b32e_bc7c_11eb_88dd_309c23678ef6row15_col2\" class=\"data row15 col2\" >O</td>\n",
       "            </tr>\n",
       "            <tr>\n",
       "                        <th id=\"T_7ae4b32e_bc7c_11eb_88dd_309c23678ef6level0_row16\" class=\"row_heading level0 row16\" >16</th>\n",
       "                        <td id=\"T_7ae4b32e_bc7c_11eb_88dd_309c23678ef6row16_col0\" class=\"data row16 col0\" >17</td>\n",
       "                        <td id=\"T_7ae4b32e_bc7c_11eb_88dd_309c23678ef6row16_col1\" class=\"data row16 col1\" >1 → 3</td>\n",
       "                        <td id=\"T_7ae4b32e_bc7c_11eb_88dd_309c23678ef6row16_col2\" class=\"data row16 col2\" >X</td>\n",
       "            </tr>\n",
       "            <tr>\n",
       "                        <th id=\"T_7ae4b32e_bc7c_11eb_88dd_309c23678ef6level0_row17\" class=\"row_heading level0 row17\" >17</th>\n",
       "                        <td id=\"T_7ae4b32e_bc7c_11eb_88dd_309c23678ef6row17_col0\" class=\"data row17 col0\" >18</td>\n",
       "                        <td id=\"T_7ae4b32e_bc7c_11eb_88dd_309c23678ef6row17_col1\" class=\"data row17 col1\" >1</td>\n",
       "                        <td id=\"T_7ae4b32e_bc7c_11eb_88dd_309c23678ef6row17_col2\" class=\"data row17 col2\" >O</td>\n",
       "            </tr>\n",
       "            <tr>\n",
       "                        <th id=\"T_7ae4b32e_bc7c_11eb_88dd_309c23678ef6level0_row18\" class=\"row_heading level0 row18\" >18</th>\n",
       "                        <td id=\"T_7ae4b32e_bc7c_11eb_88dd_309c23678ef6row18_col0\" class=\"data row18 col0\" >19</td>\n",
       "                        <td id=\"T_7ae4b32e_bc7c_11eb_88dd_309c23678ef6row18_col1\" class=\"data row18 col1\" >4 → 1</td>\n",
       "                        <td id=\"T_7ae4b32e_bc7c_11eb_88dd_309c23678ef6row18_col2\" class=\"data row18 col2\" >X</td>\n",
       "            </tr>\n",
       "            <tr>\n",
       "                        <th id=\"T_7ae4b32e_bc7c_11eb_88dd_309c23678ef6level0_row19\" class=\"row_heading level0 row19\" >19</th>\n",
       "                        <td id=\"T_7ae4b32e_bc7c_11eb_88dd_309c23678ef6row19_col0\" class=\"data row19 col0\" >20</td>\n",
       "                        <td id=\"T_7ae4b32e_bc7c_11eb_88dd_309c23678ef6row19_col1\" class=\"data row19 col1\" >3</td>\n",
       "                        <td id=\"T_7ae4b32e_bc7c_11eb_88dd_309c23678ef6row19_col2\" class=\"data row19 col2\" >O</td>\n",
       "            </tr>\n",
       "    </tbody></table>"
      ],
      "text/plain": [
       "<pandas.io.formats.style.Styler at 0x2afba66ec08>"
      ]
     },
     "execution_count": 27,
     "metadata": {},
     "output_type": "execute_result"
    }
   ],
   "source": [
    "df_infor_correct = df_infor_co.copy()\n",
    "for i in range(len(df_infor_co.index)):\n",
    "    for j in range(len(df_infor_co.columns)-1):\n",
    "        if (df_q.iloc[i, j] != df_a.iloc[i, j]):\n",
    "            df_infor_correct.iloc[i,j+1] = \"X\"\n",
    "            df_infor_correct.iloc[i,j] = str(df_infor_correct.iloc[i,j]) + \" → \" + str(df_a.iloc[i,j])\n",
    "df_infor_correct.style.set_properties(**{'text-align': 'center'})\n",
    "#df_infor_correct"
   ]
  },
  {
   "cell_type": "code",
   "execution_count": 41,
   "metadata": {},
   "outputs": [
    {
     "data": {
      "text/html": [
       "<style  type=\"text/css\" >\n",
       "#T_1e47a6b8_bc7e_11eb_ab92_309c23678ef6row0_col0,#T_1e47a6b8_bc7e_11eb_ab92_309c23678ef6row0_col1,#T_1e47a6b8_bc7e_11eb_ab92_309c23678ef6row0_col2,#T_1e47a6b8_bc7e_11eb_ab92_309c23678ef6row1_col0,#T_1e47a6b8_bc7e_11eb_ab92_309c23678ef6row1_col1,#T_1e47a6b8_bc7e_11eb_ab92_309c23678ef6row1_col2,#T_1e47a6b8_bc7e_11eb_ab92_309c23678ef6row2_col0,#T_1e47a6b8_bc7e_11eb_ab92_309c23678ef6row2_col1,#T_1e47a6b8_bc7e_11eb_ab92_309c23678ef6row2_col2,#T_1e47a6b8_bc7e_11eb_ab92_309c23678ef6row3_col0,#T_1e47a6b8_bc7e_11eb_ab92_309c23678ef6row3_col1,#T_1e47a6b8_bc7e_11eb_ab92_309c23678ef6row3_col2,#T_1e47a6b8_bc7e_11eb_ab92_309c23678ef6row4_col0,#T_1e47a6b8_bc7e_11eb_ab92_309c23678ef6row4_col1,#T_1e47a6b8_bc7e_11eb_ab92_309c23678ef6row4_col2,#T_1e47a6b8_bc7e_11eb_ab92_309c23678ef6row5_col0,#T_1e47a6b8_bc7e_11eb_ab92_309c23678ef6row5_col1,#T_1e47a6b8_bc7e_11eb_ab92_309c23678ef6row5_col2,#T_1e47a6b8_bc7e_11eb_ab92_309c23678ef6row6_col0,#T_1e47a6b8_bc7e_11eb_ab92_309c23678ef6row6_col1,#T_1e47a6b8_bc7e_11eb_ab92_309c23678ef6row6_col2,#T_1e47a6b8_bc7e_11eb_ab92_309c23678ef6row7_col0,#T_1e47a6b8_bc7e_11eb_ab92_309c23678ef6row7_col1,#T_1e47a6b8_bc7e_11eb_ab92_309c23678ef6row7_col2,#T_1e47a6b8_bc7e_11eb_ab92_309c23678ef6row8_col0,#T_1e47a6b8_bc7e_11eb_ab92_309c23678ef6row8_col1,#T_1e47a6b8_bc7e_11eb_ab92_309c23678ef6row8_col2,#T_1e47a6b8_bc7e_11eb_ab92_309c23678ef6row9_col0,#T_1e47a6b8_bc7e_11eb_ab92_309c23678ef6row9_col1,#T_1e47a6b8_bc7e_11eb_ab92_309c23678ef6row9_col2,#T_1e47a6b8_bc7e_11eb_ab92_309c23678ef6row10_col0,#T_1e47a6b8_bc7e_11eb_ab92_309c23678ef6row10_col1,#T_1e47a6b8_bc7e_11eb_ab92_309c23678ef6row10_col2,#T_1e47a6b8_bc7e_11eb_ab92_309c23678ef6row11_col0,#T_1e47a6b8_bc7e_11eb_ab92_309c23678ef6row11_col1,#T_1e47a6b8_bc7e_11eb_ab92_309c23678ef6row11_col2,#T_1e47a6b8_bc7e_11eb_ab92_309c23678ef6row12_col0,#T_1e47a6b8_bc7e_11eb_ab92_309c23678ef6row12_col1,#T_1e47a6b8_bc7e_11eb_ab92_309c23678ef6row12_col2,#T_1e47a6b8_bc7e_11eb_ab92_309c23678ef6row13_col0,#T_1e47a6b8_bc7e_11eb_ab92_309c23678ef6row13_col1,#T_1e47a6b8_bc7e_11eb_ab92_309c23678ef6row13_col2,#T_1e47a6b8_bc7e_11eb_ab92_309c23678ef6row14_col0,#T_1e47a6b8_bc7e_11eb_ab92_309c23678ef6row14_col1,#T_1e47a6b8_bc7e_11eb_ab92_309c23678ef6row14_col2,#T_1e47a6b8_bc7e_11eb_ab92_309c23678ef6row15_col0,#T_1e47a6b8_bc7e_11eb_ab92_309c23678ef6row15_col1,#T_1e47a6b8_bc7e_11eb_ab92_309c23678ef6row15_col2,#T_1e47a6b8_bc7e_11eb_ab92_309c23678ef6row16_col0,#T_1e47a6b8_bc7e_11eb_ab92_309c23678ef6row16_col1,#T_1e47a6b8_bc7e_11eb_ab92_309c23678ef6row16_col2,#T_1e47a6b8_bc7e_11eb_ab92_309c23678ef6row17_col0,#T_1e47a6b8_bc7e_11eb_ab92_309c23678ef6row17_col1,#T_1e47a6b8_bc7e_11eb_ab92_309c23678ef6row17_col2,#T_1e47a6b8_bc7e_11eb_ab92_309c23678ef6row18_col0,#T_1e47a6b8_bc7e_11eb_ab92_309c23678ef6row18_col1,#T_1e47a6b8_bc7e_11eb_ab92_309c23678ef6row18_col2,#T_1e47a6b8_bc7e_11eb_ab92_309c23678ef6row19_col0,#T_1e47a6b8_bc7e_11eb_ab92_309c23678ef6row19_col1,#T_1e47a6b8_bc7e_11eb_ab92_309c23678ef6row19_col2{\n",
       "            text-align:  center;\n",
       "        }</style><table id=\"T_1e47a6b8_bc7e_11eb_ab92_309c23678ef6\" ><thead>    <tr>        <th class=\"blank level0\" ></th>        <th class=\"col_heading level0 col0\" >문제번호</th>        <th class=\"col_heading level0 col1\" >답</th>        <th class=\"col_heading level0 col2\" >correct</th>    </tr></thead><tbody>\n",
       "                <tr>\n",
       "                        <th id=\"T_1e47a6b8_bc7e_11eb_ab92_309c23678ef6level0_row0\" class=\"row_heading level0 row0\" >0</th>\n",
       "                        <td id=\"T_1e47a6b8_bc7e_11eb_ab92_309c23678ef6row0_col0\" class=\"data row0 col0\" >1</td>\n",
       "                        <td id=\"T_1e47a6b8_bc7e_11eb_ab92_309c23678ef6row0_col1\" class=\"data row0 col1\" >3</td>\n",
       "                        <td id=\"T_1e47a6b8_bc7e_11eb_ab92_309c23678ef6row0_col2\" class=\"data row0 col2\" >O</td>\n",
       "            </tr>\n",
       "            <tr>\n",
       "                        <th id=\"T_1e47a6b8_bc7e_11eb_ab92_309c23678ef6level0_row1\" class=\"row_heading level0 row1\" >1</th>\n",
       "                        <td id=\"T_1e47a6b8_bc7e_11eb_ab92_309c23678ef6row1_col0\" class=\"data row1 col0\" >2</td>\n",
       "                        <td id=\"T_1e47a6b8_bc7e_11eb_ab92_309c23678ef6row1_col1\" class=\"data row1 col1\" >2</td>\n",
       "                        <td id=\"T_1e47a6b8_bc7e_11eb_ab92_309c23678ef6row1_col2\" class=\"data row1 col2\" >O</td>\n",
       "            </tr>\n",
       "            <tr>\n",
       "                        <th id=\"T_1e47a6b8_bc7e_11eb_ab92_309c23678ef6level0_row2\" class=\"row_heading level0 row2\" >2</th>\n",
       "                        <td id=\"T_1e47a6b8_bc7e_11eb_ab92_309c23678ef6row2_col0\" class=\"data row2 col0\" >3</td>\n",
       "                        <td id=\"T_1e47a6b8_bc7e_11eb_ab92_309c23678ef6row2_col1\" class=\"data row2 col1\" >2 → 4</td>\n",
       "                        <td id=\"T_1e47a6b8_bc7e_11eb_ab92_309c23678ef6row2_col2\" class=\"data row2 col2\" >X</td>\n",
       "            </tr>\n",
       "            <tr>\n",
       "                        <th id=\"T_1e47a6b8_bc7e_11eb_ab92_309c23678ef6level0_row3\" class=\"row_heading level0 row3\" >3</th>\n",
       "                        <td id=\"T_1e47a6b8_bc7e_11eb_ab92_309c23678ef6row3_col0\" class=\"data row3 col0\" >4</td>\n",
       "                        <td id=\"T_1e47a6b8_bc7e_11eb_ab92_309c23678ef6row3_col1\" class=\"data row3 col1\" >4</td>\n",
       "                        <td id=\"T_1e47a6b8_bc7e_11eb_ab92_309c23678ef6row3_col2\" class=\"data row3 col2\" >O</td>\n",
       "            </tr>\n",
       "            <tr>\n",
       "                        <th id=\"T_1e47a6b8_bc7e_11eb_ab92_309c23678ef6level0_row4\" class=\"row_heading level0 row4\" >4</th>\n",
       "                        <td id=\"T_1e47a6b8_bc7e_11eb_ab92_309c23678ef6row4_col0\" class=\"data row4 col0\" >5</td>\n",
       "                        <td id=\"T_1e47a6b8_bc7e_11eb_ab92_309c23678ef6row4_col1\" class=\"data row4 col1\" >2</td>\n",
       "                        <td id=\"T_1e47a6b8_bc7e_11eb_ab92_309c23678ef6row4_col2\" class=\"data row4 col2\" >O</td>\n",
       "            </tr>\n",
       "            <tr>\n",
       "                        <th id=\"T_1e47a6b8_bc7e_11eb_ab92_309c23678ef6level0_row5\" class=\"row_heading level0 row5\" >5</th>\n",
       "                        <td id=\"T_1e47a6b8_bc7e_11eb_ab92_309c23678ef6row5_col0\" class=\"data row5 col0\" >6</td>\n",
       "                        <td id=\"T_1e47a6b8_bc7e_11eb_ab92_309c23678ef6row5_col1\" class=\"data row5 col1\" >3</td>\n",
       "                        <td id=\"T_1e47a6b8_bc7e_11eb_ab92_309c23678ef6row5_col2\" class=\"data row5 col2\" >O</td>\n",
       "            </tr>\n",
       "            <tr>\n",
       "                        <th id=\"T_1e47a6b8_bc7e_11eb_ab92_309c23678ef6level0_row6\" class=\"row_heading level0 row6\" >6</th>\n",
       "                        <td id=\"T_1e47a6b8_bc7e_11eb_ab92_309c23678ef6row6_col0\" class=\"data row6 col0\" >7</td>\n",
       "                        <td id=\"T_1e47a6b8_bc7e_11eb_ab92_309c23678ef6row6_col1\" class=\"data row6 col1\" >5 → 1</td>\n",
       "                        <td id=\"T_1e47a6b8_bc7e_11eb_ab92_309c23678ef6row6_col2\" class=\"data row6 col2\" >X</td>\n",
       "            </tr>\n",
       "            <tr>\n",
       "                        <th id=\"T_1e47a6b8_bc7e_11eb_ab92_309c23678ef6level0_row7\" class=\"row_heading level0 row7\" >7</th>\n",
       "                        <td id=\"T_1e47a6b8_bc7e_11eb_ab92_309c23678ef6row7_col0\" class=\"data row7 col0\" >8</td>\n",
       "                        <td id=\"T_1e47a6b8_bc7e_11eb_ab92_309c23678ef6row7_col1\" class=\"data row7 col1\" >1</td>\n",
       "                        <td id=\"T_1e47a6b8_bc7e_11eb_ab92_309c23678ef6row7_col2\" class=\"data row7 col2\" >O</td>\n",
       "            </tr>\n",
       "            <tr>\n",
       "                        <th id=\"T_1e47a6b8_bc7e_11eb_ab92_309c23678ef6level0_row8\" class=\"row_heading level0 row8\" >8</th>\n",
       "                        <td id=\"T_1e47a6b8_bc7e_11eb_ab92_309c23678ef6row8_col0\" class=\"data row8 col0\" >9</td>\n",
       "                        <td id=\"T_1e47a6b8_bc7e_11eb_ab92_309c23678ef6row8_col1\" class=\"data row8 col1\" >2</td>\n",
       "                        <td id=\"T_1e47a6b8_bc7e_11eb_ab92_309c23678ef6row8_col2\" class=\"data row8 col2\" >O</td>\n",
       "            </tr>\n",
       "            <tr>\n",
       "                        <th id=\"T_1e47a6b8_bc7e_11eb_ab92_309c23678ef6level0_row9\" class=\"row_heading level0 row9\" >9</th>\n",
       "                        <td id=\"T_1e47a6b8_bc7e_11eb_ab92_309c23678ef6row9_col0\" class=\"data row9 col0\" >10</td>\n",
       "                        <td id=\"T_1e47a6b8_bc7e_11eb_ab92_309c23678ef6row9_col1\" class=\"data row9 col1\" >4 → 3</td>\n",
       "                        <td id=\"T_1e47a6b8_bc7e_11eb_ab92_309c23678ef6row9_col2\" class=\"data row9 col2\" >X</td>\n",
       "            </tr>\n",
       "            <tr>\n",
       "                        <th id=\"T_1e47a6b8_bc7e_11eb_ab92_309c23678ef6level0_row10\" class=\"row_heading level0 row10\" >10</th>\n",
       "                        <td id=\"T_1e47a6b8_bc7e_11eb_ab92_309c23678ef6row10_col0\" class=\"data row10 col0\" >11</td>\n",
       "                        <td id=\"T_1e47a6b8_bc7e_11eb_ab92_309c23678ef6row10_col1\" class=\"data row10 col1\" >2</td>\n",
       "                        <td id=\"T_1e47a6b8_bc7e_11eb_ab92_309c23678ef6row10_col2\" class=\"data row10 col2\" >O</td>\n",
       "            </tr>\n",
       "            <tr>\n",
       "                        <th id=\"T_1e47a6b8_bc7e_11eb_ab92_309c23678ef6level0_row11\" class=\"row_heading level0 row11\" >11</th>\n",
       "                        <td id=\"T_1e47a6b8_bc7e_11eb_ab92_309c23678ef6row11_col0\" class=\"data row11 col0\" >12</td>\n",
       "                        <td id=\"T_1e47a6b8_bc7e_11eb_ab92_309c23678ef6row11_col1\" class=\"data row11 col1\" >3</td>\n",
       "                        <td id=\"T_1e47a6b8_bc7e_11eb_ab92_309c23678ef6row11_col2\" class=\"data row11 col2\" >O</td>\n",
       "            </tr>\n",
       "            <tr>\n",
       "                        <th id=\"T_1e47a6b8_bc7e_11eb_ab92_309c23678ef6level0_row12\" class=\"row_heading level0 row12\" >12</th>\n",
       "                        <td id=\"T_1e47a6b8_bc7e_11eb_ab92_309c23678ef6row12_col0\" class=\"data row12 col0\" >13</td>\n",
       "                        <td id=\"T_1e47a6b8_bc7e_11eb_ab92_309c23678ef6row12_col1\" class=\"data row12 col1\" >4 → 2</td>\n",
       "                        <td id=\"T_1e47a6b8_bc7e_11eb_ab92_309c23678ef6row12_col2\" class=\"data row12 col2\" >X</td>\n",
       "            </tr>\n",
       "            <tr>\n",
       "                        <th id=\"T_1e47a6b8_bc7e_11eb_ab92_309c23678ef6level0_row13\" class=\"row_heading level0 row13\" >13</th>\n",
       "                        <td id=\"T_1e47a6b8_bc7e_11eb_ab92_309c23678ef6row13_col0\" class=\"data row13 col0\" >14</td>\n",
       "                        <td id=\"T_1e47a6b8_bc7e_11eb_ab92_309c23678ef6row13_col1\" class=\"data row13 col1\" >2</td>\n",
       "                        <td id=\"T_1e47a6b8_bc7e_11eb_ab92_309c23678ef6row13_col2\" class=\"data row13 col2\" >O</td>\n",
       "            </tr>\n",
       "            <tr>\n",
       "                        <th id=\"T_1e47a6b8_bc7e_11eb_ab92_309c23678ef6level0_row14\" class=\"row_heading level0 row14\" >14</th>\n",
       "                        <td id=\"T_1e47a6b8_bc7e_11eb_ab92_309c23678ef6row14_col0\" class=\"data row14 col0\" >15</td>\n",
       "                        <td id=\"T_1e47a6b8_bc7e_11eb_ab92_309c23678ef6row14_col1\" class=\"data row14 col1\" >2</td>\n",
       "                        <td id=\"T_1e47a6b8_bc7e_11eb_ab92_309c23678ef6row14_col2\" class=\"data row14 col2\" >O</td>\n",
       "            </tr>\n",
       "            <tr>\n",
       "                        <th id=\"T_1e47a6b8_bc7e_11eb_ab92_309c23678ef6level0_row15\" class=\"row_heading level0 row15\" >15</th>\n",
       "                        <td id=\"T_1e47a6b8_bc7e_11eb_ab92_309c23678ef6row15_col0\" class=\"data row15 col0\" >16</td>\n",
       "                        <td id=\"T_1e47a6b8_bc7e_11eb_ab92_309c23678ef6row15_col1\" class=\"data row15 col1\" >3</td>\n",
       "                        <td id=\"T_1e47a6b8_bc7e_11eb_ab92_309c23678ef6row15_col2\" class=\"data row15 col2\" >O</td>\n",
       "            </tr>\n",
       "            <tr>\n",
       "                        <th id=\"T_1e47a6b8_bc7e_11eb_ab92_309c23678ef6level0_row16\" class=\"row_heading level0 row16\" >16</th>\n",
       "                        <td id=\"T_1e47a6b8_bc7e_11eb_ab92_309c23678ef6row16_col0\" class=\"data row16 col0\" >17</td>\n",
       "                        <td id=\"T_1e47a6b8_bc7e_11eb_ab92_309c23678ef6row16_col1\" class=\"data row16 col1\" >1 → 3</td>\n",
       "                        <td id=\"T_1e47a6b8_bc7e_11eb_ab92_309c23678ef6row16_col2\" class=\"data row16 col2\" >X</td>\n",
       "            </tr>\n",
       "            <tr>\n",
       "                        <th id=\"T_1e47a6b8_bc7e_11eb_ab92_309c23678ef6level0_row17\" class=\"row_heading level0 row17\" >17</th>\n",
       "                        <td id=\"T_1e47a6b8_bc7e_11eb_ab92_309c23678ef6row17_col0\" class=\"data row17 col0\" >18</td>\n",
       "                        <td id=\"T_1e47a6b8_bc7e_11eb_ab92_309c23678ef6row17_col1\" class=\"data row17 col1\" >1</td>\n",
       "                        <td id=\"T_1e47a6b8_bc7e_11eb_ab92_309c23678ef6row17_col2\" class=\"data row17 col2\" >O</td>\n",
       "            </tr>\n",
       "            <tr>\n",
       "                        <th id=\"T_1e47a6b8_bc7e_11eb_ab92_309c23678ef6level0_row18\" class=\"row_heading level0 row18\" >18</th>\n",
       "                        <td id=\"T_1e47a6b8_bc7e_11eb_ab92_309c23678ef6row18_col0\" class=\"data row18 col0\" >19</td>\n",
       "                        <td id=\"T_1e47a6b8_bc7e_11eb_ab92_309c23678ef6row18_col1\" class=\"data row18 col1\" >4 → 1</td>\n",
       "                        <td id=\"T_1e47a6b8_bc7e_11eb_ab92_309c23678ef6row18_col2\" class=\"data row18 col2\" >X</td>\n",
       "            </tr>\n",
       "            <tr>\n",
       "                        <th id=\"T_1e47a6b8_bc7e_11eb_ab92_309c23678ef6level0_row19\" class=\"row_heading level0 row19\" >19</th>\n",
       "                        <td id=\"T_1e47a6b8_bc7e_11eb_ab92_309c23678ef6row19_col0\" class=\"data row19 col0\" >20</td>\n",
       "                        <td id=\"T_1e47a6b8_bc7e_11eb_ab92_309c23678ef6row19_col1\" class=\"data row19 col1\" >3</td>\n",
       "                        <td id=\"T_1e47a6b8_bc7e_11eb_ab92_309c23678ef6row19_col2\" class=\"data row19 col2\" >O</td>\n",
       "            </tr>\n",
       "    </tbody></table>"
      ],
      "text/plain": [
       "<pandas.io.formats.style.Styler at 0x2afba6c7a48>"
      ]
     },
     "execution_count": 41,
     "metadata": {},
     "output_type": "execute_result"
    }
   ],
   "source": [
    "df_infor_correct = df_infor_co.copy()\n",
    "for i in range(len(df_infor_co.index)):\n",
    "    for j in range(len(df_infor_co.columns)-1):\n",
    "        if (df_q.iloc[i, j] != df_a.iloc[i, j]):\n",
    "            df_infor_correct.iloc[i,j+1] = \"X\"\n",
    "            df_infor_correct.iloc[i,j] = str(df_infor_correct.iloc[i,j]) + \" → \" + str(df_a.iloc[i,j])\n",
    "df_infor_correct.style.set_properties(**{'text-align': 'center'})"
   ]
  },
  {
   "cell_type": "markdown",
   "metadata": {},
   "source": [
    "# 틀린 문제 수"
   ]
  },
  {
   "cell_type": "code",
   "execution_count": 9,
   "metadata": {},
   "outputs": [
    {
     "data": {
      "text/plain": [
       "6"
      ]
     },
     "execution_count": 9,
     "metadata": {},
     "output_type": "execute_result"
    }
   ],
   "source": [
    "incorrect = 0\n",
    "for i in range(len(df_infor_co.index)):\n",
    "    if df_infor_correct.iloc[i,-1] == \"X\":\n",
    "        incorrect = incorrect + 1\n",
    "incorrect"
   ]
  },
  {
   "cell_type": "markdown",
   "metadata": {},
   "source": [
    "# 점수"
   ]
  },
  {
   "cell_type": "code",
   "execution_count": 10,
   "metadata": {},
   "outputs": [
    {
     "data": {
      "text/plain": [
       "70.0"
      ]
     },
     "execution_count": 10,
     "metadata": {},
     "output_type": "execute_result"
    }
   ],
   "source": [
    "score = 100 - 100/len(df_infor_co.index)*incorrect\n",
    "score"
   ]
  },
  {
   "cell_type": "code",
   "execution_count": null,
   "metadata": {},
   "outputs": [],
   "source": []
  },
  {
   "cell_type": "code",
   "execution_count": null,
   "metadata": {},
   "outputs": [],
   "source": []
  }
 ],
 "metadata": {
  "kernelspec": {
   "display_name": "Python 3",
   "language": "python",
   "name": "python3"
  },
  "language_info": {
   "codemirror_mode": {
    "name": "ipython",
    "version": 3
   },
   "file_extension": ".py",
   "mimetype": "text/x-python",
   "name": "python",
   "nbconvert_exporter": "python",
   "pygments_lexer": "ipython3",
   "version": "3.7.9"
  }
 },
 "nbformat": 4,
 "nbformat_minor": 4
}
